{
 "cells": [
  {
   "cell_type": "code",
   "execution_count": null,
   "metadata": {
    "collapsed": false
   },
   "outputs": [],
   "source": [
    "import serial\n",
    "ser = serial.Serial('/dev/ttyACM0', 34800)"
   ]
  },
  {
   "cell_type": "code",
   "execution_count": null,
   "metadata": {
    "collapsed": false
   },
   "outputs": [],
   "source": [
    "data = ser.read(20)\n",
    "data_start = 0\n",
    "for i in range(len(data)):\n",
    "    if (data[i] == data[i + 1] == data[i +2] == 0):\n",
    "        data_start = i + 3\n",
    "        break\n",
    "print(data_start)\n",
    "for i in range(0, 3):\n",
    "    print(data_start + 2 * i, data_start + 2 * i + 1)\n",
    "    print(int.from_bytes(data[data_start + 2 * i: data_start + 2 * i + 2], byteorder='big', signed = True))\n",
    "for val in data:\n",
    "    print(hex(val), end=' ')"
   ]
  },
  {
   "cell_type": "code",
   "execution_count": 1,
   "metadata": {
    "collapsed": false
   },
   "outputs": [],
   "source": [
    "import cv2\n",
    "import numpy as np\n",
    "import time"
   ]
  },
  {
   "cell_type": "code",
   "execution_count": 5,
   "metadata": {
    "collapsed": false
   },
   "outputs": [
    {
     "name": "stdout",
     "output_type": "stream",
     "text": [
      "aaaa\n",
      "aaaa\n"
     ]
    }
   ],
   "source": [
    "SIZE = 100\n",
    "img = np.zeros([SIZE,SIZE,3])\n",
    "\n",
    "img[:,:,0] = np.ones([SIZE,SIZE])*64\n",
    "# img[:,:,1] = np.ones([5,5])*128/255.0\n",
    "# img[:,:,2] = np.ones([5,5])*192/255.0\n",
    "#cv2.startWindowThread()\n",
    "print(\"aaaa\")\n",
    "cv2.imshow(\"test\", img)\n",
    "time.sleep(5)\n",
    "print(\"aaaa\")\n",
    "img[:,:,0] = np.zeros([SIZE, SIZE])\n",
    "img[:,:,1] = np.ones([SIZE, SIZE]) * 64\n",
    "cv2.imshow(\"test\", img)\n",
    "time.sleep(5)\n",
    "cv2.destroyAllWindows()"
   ]
  },
  {
   "cell_type": "code",
   "execution_count": null,
   "metadata": {
    "collapsed": true
   },
   "outputs": [],
   "source": [
    "cv2.destroyAllWindows()"
   ]
  },
  {
   "cell_type": "code",
   "execution_count": null,
   "metadata": {
    "collapsed": true
   },
   "outputs": [],
   "source": []
  }
 ],
 "metadata": {
  "kernelspec": {
   "display_name": "Python 3",
   "language": "python",
   "name": "python3"
  },
  "language_info": {
   "codemirror_mode": {
    "name": "ipython",
    "version": 3
   },
   "file_extension": ".py",
   "mimetype": "text/x-python",
   "name": "python",
   "nbconvert_exporter": "python",
   "pygments_lexer": "ipython3",
   "version": "3.6.3"
  }
 },
 "nbformat": 4,
 "nbformat_minor": 2
}
